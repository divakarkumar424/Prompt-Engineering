{
 "cells": [
  {
   "cell_type": "markdown",
   "id": "b97ddf3b-d921-4169-9d82-b0ee95e9eccd",
   "metadata": {},
   "source": [
    "# Iterative Prompt Develelopment\n",
    "In this lesson, you'll iteratively analyze and refine your prompts to generate marketing copy from a product fact sheet.\n",
    "\n",
    "## Setup"
   ]
  },
  {
   "cell_type": "code",
   "execution_count": 18,
   "id": "2800e646",
   "metadata": {
    "height": 132
   },
   "outputs": [],
   "source": [
    "import openai\n",
    "import os\n",
    "\n",
    "from dotenv import load_dotenv, find_dotenv\n",
    "_ = load_dotenv(find_dotenv()) # read local .env file\n",
    "\n",
    "openai.api_key  = os.getenv('OPENAI_API_KEY')"
   ]
  },
  {
   "cell_type": "code",
   "execution_count": 19,
   "id": "9fb6f2de",
   "metadata": {
    "height": 149
   },
   "outputs": [],
   "source": [
    "def get_completion(prompt, model=\"gpt-3.5-turbo\"):\n",
    "    messages = [{\"role\": \"user\", \"content\": prompt}]\n",
    "    response = openai.ChatCompletion.create(\n",
    "        model=model,\n",
    "        messages=messages,\n",
    "        temperature=0, # this is the degree of randomness of the model's output\n",
    "    )\n",
    "    return response.choices[0].message[\"content\"]"
   ]
  },
  {
   "cell_type": "markdown",
   "id": "71d1a1df-03c3-4f38-af6d-3962362f3dcd",
   "metadata": {},
   "source": [
    "## Generate a marketing product description from a product fact sheet"
   ]
  },
  {
   "cell_type": "code",
   "execution_count": 20,
   "id": "5be90e47",
   "metadata": {
    "height": 693
   },
   "outputs": [],
   "source": [
    "fact_sheet_chair = \"\"\"\n",
    "OVERVIEW\n",
    "- Part of a beautiful family of mid-century inspired office furniture, \n",
    "including filing cabinets, desks, bookcases, meeting tables, and more.\n",
    "- Several options of shell color and base finishes.\n",
    "- Available with plastic back and front upholstery (SWC-100) \n",
    "or full upholstery (SWC-110) in 10 fabric and 6 leather options.\n",
    "- Base finish options are: stainless steel, matte black, \n",
    "gloss white, or chrome.\n",
    "- Chair is available with or without armrests.\n",
    "- Suitable for home or business settings.\n",
    "- Qualified for contract use.\n",
    "\n",
    "CONSTRUCTION\n",
    "- 5-wheel plastic coated aluminum base.\n",
    "- Pneumatic chair adjust for easy raise/lower action.\n",
    "\n",
    "DIMENSIONS\n",
    "- WIDTH 53 CM | 20.87”\n",
    "- DEPTH 51 CM | 20.08”\n",
    "- HEIGHT 80 CM | 31.50”\n",
    "- SEAT HEIGHT 44 CM | 17.32”\n",
    "- SEAT DEPTH 41 CM | 16.14”\n",
    "\n",
    "OPTIONS\n",
    "- Soft or hard-floor caster options.\n",
    "- Two choices of seat foam densities: \n",
    " medium (1.8 lb/ft3) or high (2.8 lb/ft3)\n",
    "- Armless or 8 position PU armrests \n",
    "\n",
    "MATERIALS\n",
    "SHELL BASE GLIDER\n",
    "- Cast Aluminum with modified nylon PA6/PA66 coating.\n",
    "- Shell thickness: 10 mm.\n",
    "SEAT\n",
    "- HD36 foam\n",
    "\n",
    "COUNTRY OF ORIGIN\n",
    "- Italy\n",
    "\"\"\""
   ]
  },
  {
   "cell_type": "code",
   "execution_count": 21,
   "id": "4f656d0c",
   "metadata": {
    "height": 251
   },
   "outputs": [
    {
     "name": "stdout",
     "output_type": "stream",
     "text": [
      "Introducing our stunning mid-century inspired office chair, the perfect addition to any home or business setting. This chair is part of a beautiful family of office furniture, including filing cabinets, desks, bookcases, meeting tables, and more, all designed with a timeless mid-century aesthetic.\n",
      "\n",
      "One of the standout features of this chair is the variety of customization options available. You can choose from several shell colors and base finishes to perfectly match your existing decor. The chair is available with either plastic back and front upholstery or full upholstery in a range of 10 fabric and 6 leather options, allowing you to create a look that is uniquely yours.\n",
      "\n",
      "The chair is also available with or without armrests, giving you the flexibility to choose the option that best suits your needs. The base finish options include stainless steel, matte black, gloss white, or chrome, ensuring that you can find the perfect match for your space.\n",
      "\n",
      "In terms of construction, this chair is built to last. It features a 5-wheel plastic coated aluminum base, providing stability and mobility. The pneumatic chair adjust allows for easy raise and lower action, ensuring optimal comfort throughout the day.\n",
      "\n",
      "When it comes to dimensions, this chair is designed with both style and comfort in mind. With a width of 53 cm (20.87\"), depth of 51 cm (20.08\"), and height of 80 cm (31.50\"), it offers ample space without overwhelming your space. The seat height is 44 cm (17.32\") and the seat depth is 41 cm (16.14\"), providing a comfortable seating experience for users of all heights.\n",
      "\n",
      "We understand that every space is unique, which is why we offer a range of options to further customize your chair. You can choose between soft or hard-floor caster options, ensuring that your chair glides smoothly across any surface. Additionally, you have the choice between two seat foam densities: medium (1.8 lb/ft3) or high (2.8 lb/ft3), allowing you to select the level of support that suits your preferences. The chair is also available with armless design or 8 position PU armrests, providing additional comfort and versatility.\n",
      "\n",
      "When it comes to materials, this chair is crafted with the utmost attention to quality. The shell base glider is made from cast aluminum with a modified nylon PA6/PA66 coating, ensuring durability and longevity. The shell thickness is 10 mm, providing a sturdy and reliable structure. The seat is made from HD36 foam, offering a comfortable and supportive seating experience.\n",
      "\n",
      "Finally, this chair is proudly made in Italy, known for its exceptional craftsmanship and design. With its combination of style, functionality, and customization options, this mid-century inspired office chair is the perfect choice for those seeking a timeless and elegant addition to their workspace.\n",
      "\n",
      "Please note that this chair is qualified for contract use, making it suitable for a wide range of professional settings. Upgrade your office or home with this exceptional piece of furniture and experience the perfect blend of style and comfort.\n"
     ]
    }
   ],
   "source": [
    "prompt = f\"\"\"\n",
    "Your task is to help a marketing team create a \n",
    "description for a retail website of a product based \n",
    "on a technical fact sheet.\n",
    "\n",
    "Write a product description based on the information \n",
    "provided in the technical specifications delimited by \n",
    "triple backticks.\n",
    "\n",
    "Technical specifications: ```{fact_sheet_chair}```\n",
    "\"\"\"\n",
    "response = get_completion(prompt)\n",
    "print(response)\n"
   ]
  },
  {
   "cell_type": "markdown",
   "id": "e1361d6f-6022-4b7a-8107-b2e2ff5efd32",
   "metadata": {},
   "source": [
    "## Issue 1: The text is too long \n",
    "- Limit the number of words/sentences/characters."
   ]
  },
  {
   "cell_type": "code",
   "execution_count": 22,
   "id": "f6129532",
   "metadata": {
    "height": 285
   },
   "outputs": [
    {
     "name": "stdout",
     "output_type": "stream",
     "text": [
      "Introducing our mid-century inspired office chair, part of a stunning furniture collection. With various color and finish options, choose between plastic or full upholstery in fabric or leather. The chair features a durable aluminum base with 5 wheels and pneumatic height adjustment. Perfect for home or business use. Made in Italy.\n"
     ]
    }
   ],
   "source": [
    "prompt = f\"\"\"\n",
    "Your task is to help a marketing team create a \n",
    "description for a retail website of a product based \n",
    "on a technical fact sheet.\n",
    "\n",
    "Write a product description based on the information \n",
    "provided in the technical specifications delimited by \n",
    "triple backticks.\n",
    "\n",
    "Use at most 50 words.\n",
    "\n",
    "Technical specifications: ```{fact_sheet_chair}```\n",
    "\"\"\"\n",
    "response = get_completion(prompt)\n",
    "print(response)\n"
   ]
  },
  {
   "cell_type": "code",
   "execution_count": 23,
   "id": "17f658d0",
   "metadata": {
    "height": 30
   },
   "outputs": [
    {
     "data": {
      "text/plain": [
       "333"
      ]
     },
     "execution_count": 23,
     "metadata": {},
     "output_type": "execute_result"
    }
   ],
   "source": [
    "len(response)"
   ]
  },
  {
   "cell_type": "markdown",
   "id": "a6de9c92-857c-4d1c-8fd1-192cf47c4763",
   "metadata": {},
   "source": [
    "## Issue 2. Text focuses on the wrong details\n",
    "- Ask it to focus on the aspects that are relevant to the intended audience."
   ]
  },
  {
   "cell_type": "code",
   "execution_count": 14,
   "id": "954a8a06",
   "metadata": {
    "height": 336
   },
   "outputs": [
    {
     "name": "stdout",
     "output_type": "stream",
     "text": [
      "Introducing our mid-century inspired office chair, part of a beautiful furniture collection. With various shell colors and base finishes, it offers versatility for any setting. Choose between plastic or full upholstery in a range of fabric and leather options. The chair features a durable aluminum base with 5-wheel design and pneumatic chair adjustment. Made in Italy.\n"
     ]
    }
   ],
   "source": [
    "prompt = f\"\"\"\n",
    "Your task is to help a marketing team create a \n",
    "description for a retail website of a product based \n",
    "on a technical fact sheet.\n",
    "\n",
    "Write a product description based on the information \n",
    "provided in the technical specifications delimited by \n",
    "triple backticks.\n",
    "\n",
    "The description is intended for furniture retailers, \n",
    "so should be technical in nature and focus on the \n",
    "materials the product is constructed from.\n",
    "\n",
    "Use at most 50 words.\n",
    "\n",
    "Technical specifications: ```{fact_sheet_chair}```\n",
    "\"\"\"\n",
    "response = get_completion(prompt)\n",
    "print(response)"
   ]
  },
  {
   "cell_type": "code",
   "execution_count": 24,
   "id": "e9455d58",
   "metadata": {
    "height": 387
   },
   "outputs": [
    {
     "name": "stdout",
     "output_type": "stream",
     "text": [
      "Introducing our mid-century inspired office chair, part of a beautiful family of furniture. With various shell colors and base finishes, this chair offers versatility and style. Choose between plastic or full upholstery in a range of fabric and leather options. The chair features a 5-wheel plastic coated aluminum base and a pneumatic chair adjust for easy height adjustment. Available with or without armrests, this chair is suitable for both home and business settings. Made with high-quality materials, including a cast aluminum shell with a modified nylon coating and HD36 foam seat, this chair is built to last. Made in Italy.\n",
      "\n",
      "Product IDs: SWC-100, SWC-110\n"
     ]
    }
   ],
   "source": [
    "prompt = f\"\"\"\n",
    "Your task is to help a marketing team create a \n",
    "description for a retail website of a product based \n",
    "on a technical fact sheet.\n",
    "\n",
    "Write a product description based on the information \n",
    "provided in the technical specifications delimited by \n",
    "triple backticks.\n",
    "\n",
    "The description is intended for furniture retailers, \n",
    "so should be technical in nature and focus on the \n",
    "materials the product is constructed from.\n",
    "\n",
    "At the end of the description, include every 7-character \n",
    "Product ID in the technical specification.\n",
    "\n",
    "Use at most 50 words.\n",
    "\n",
    "Technical specifications: ```{fact_sheet_chair}```\n",
    "\"\"\"\n",
    "response = get_completion(prompt)\n",
    "print(response)"
   ]
  },
  {
   "cell_type": "markdown",
   "id": "5be496d5-54c9-443b-8116-0b3d3d9dc560",
   "metadata": {},
   "source": [
    "## Issue 3. Description needs a table of dimensions\n",
    "- Ask it to extract information and organize it in a table."
   ]
  },
  {
   "cell_type": "code",
   "execution_count": 25,
   "id": "0384f1e4",
   "metadata": {
    "height": 540
   },
   "outputs": [
    {
     "name": "stdout",
     "output_type": "stream",
     "text": [
      "<div>\n",
      "  <h2>Product Description</h2>\n",
      "  <p>\n",
      "    Introducing our latest addition to our mid-century inspired office furniture collection - the SWC Chair. This chair is part of a beautiful family of furniture that includes filing cabinets, desks, bookcases, meeting tables, and more. With its sleek design and customizable options, the SWC Chair is the perfect choice for any home or business setting.\n",
      "  </p>\n",
      "  <p>\n",
      "    The SWC Chair offers several options for customization. You can choose from a variety of shell colors and base finishes to match your existing decor. The chair is available with plastic back and front upholstery or full upholstery in a range of fabric and leather options. The base finish options include stainless steel, matte black, gloss white, or chrome. You can also choose whether to have armrests or not, depending on your preference.\n",
      "  </p>\n",
      "  <p>\n",
      "    The construction of the SWC Chair is top-notch. It features a 5-wheel plastic coated aluminum base, ensuring stability and durability. The chair also has a pneumatic adjuster, allowing for easy raise and lower action. This makes it convenient for users to find their desired height and maintain proper posture throughout the day.\n",
      "  </p>\n",
      "  <p>\n",
      "    The SWC Chair is designed with comfort in mind. The seat is made with HD36 foam, providing a plush and supportive cushioning experience. You can also choose between soft or hard-floor caster options, depending on the type of flooring in your space. Additionally, there are two choices of seat foam densities available: medium (1.8 lb/ft3) or high (2.8 lb/ft3). This allows you to customize the level of firmness to suit your preferences.\n",
      "  </p>\n",
      "  <p>\n",
      "    The SWC Chair is not only stylish and comfortable, but it is also built to last. The shell base glider is made of cast aluminum with a modified nylon PA6/PA66 coating, ensuring strength and durability. The shell has a thickness of 10 mm, providing stability and support. With its high-quality materials and construction, the SWC Chair is qualified for contract use, making it suitable for commercial settings as well.\n",
      "  </p>\n",
      "  <p>\n",
      "    Made in Italy, the SWC Chair is a testament to Italian craftsmanship and design. It combines style, functionality, and durability to create a chair that is both aesthetically pleasing and practical.\n",
      "  </p>\n",
      "  <h2>Product Dimensions</h2>\n",
      "  <table>\n",
      "    <tr>\n",
      "      <th>Dimension</th>\n",
      "      <th>Measurement (inches)</th>\n",
      "    </tr>\n",
      "    <tr>\n",
      "      <td>Width</td>\n",
      "      <td>20.87\"</td>\n",
      "    </tr>\n",
      "    <tr>\n",
      "      <td>Depth</td>\n",
      "      <td>20.08\"</td>\n",
      "    </tr>\n",
      "    <tr>\n",
      "      <td>Height</td>\n",
      "      <td>31.50\"</td>\n",
      "    </tr>\n",
      "    <tr>\n",
      "      <td>Seat Height</td>\n",
      "      <td>17.32\"</td>\n",
      "    </tr>\n",
      "    <tr>\n",
      "      <td>Seat Depth</td>\n",
      "      <td>16.14\"</td>\n",
      "    </tr>\n",
      "  </table>\n",
      "</div>\n",
      "\n",
      "Product IDs: SWC-100, SWC-110\n"
     ]
    }
   ],
   "source": [
    "prompt = f\"\"\"\n",
    "Your task is to help a marketing team create a \n",
    "description for a retail website of a product based \n",
    "on a technical fact sheet.\n",
    "\n",
    "Write a product description based on the information \n",
    "provided in the technical specifications delimited by \n",
    "triple backticks.\n",
    "\n",
    "The description is intended for furniture retailers, \n",
    "so should be technical in nature and focus on the \n",
    "materials the product is constructed from.\n",
    "\n",
    "At the end of the description, include every 7-character \n",
    "Product ID in the technical specification.\n",
    "\n",
    "After the description, include a table that gives the \n",
    "product's dimensions. The table should have two columns.\n",
    "In the first column include the name of the dimension. \n",
    "In the second column include the measurements in inches only.\n",
    "\n",
    "Give the table the title 'Product Dimensions'.\n",
    "\n",
    "Format everything as HTML that can be used in a website. \n",
    "Place the description in a <div> element.\n",
    "\n",
    "Technical specifications: ```{fact_sheet_chair}```\n",
    "\"\"\"\n",
    "\n",
    "response = get_completion(prompt)\n",
    "print(response)"
   ]
  },
  {
   "cell_type": "markdown",
   "id": "d681db67-6d59-40c1-a36b-4d76729a690d",
   "metadata": {},
   "source": [
    "## Load Python libraries to view HTML"
   ]
  },
  {
   "cell_type": "code",
   "execution_count": 26,
   "id": "73ff0052",
   "metadata": {
    "height": 30
   },
   "outputs": [],
   "source": [
    "from IPython.display import display, HTML"
   ]
  },
  {
   "cell_type": "code",
   "execution_count": 27,
   "id": "3465ffce",
   "metadata": {
    "height": 30
   },
   "outputs": [
    {
     "data": {
      "text/html": [
       "<div>\n",
       "  <h2>Product Description</h2>\n",
       "  <p>\n",
       "    Introducing our latest addition to our mid-century inspired office furniture collection - the SWC Chair. This chair is part of a beautiful family of furniture that includes filing cabinets, desks, bookcases, meeting tables, and more. With its sleek design and customizable options, the SWC Chair is the perfect choice for any home or business setting.\n",
       "  </p>\n",
       "  <p>\n",
       "    The SWC Chair offers several options for customization. You can choose from a variety of shell colors and base finishes to match your existing decor. The chair is available with plastic back and front upholstery or full upholstery in a range of fabric and leather options. The base finish options include stainless steel, matte black, gloss white, or chrome. You can also choose whether to have armrests or not, depending on your preference.\n",
       "  </p>\n",
       "  <p>\n",
       "    The construction of the SWC Chair is top-notch. It features a 5-wheel plastic coated aluminum base, ensuring stability and durability. The chair also has a pneumatic adjuster, allowing for easy raise and lower action. This makes it convenient for users to find their desired height and maintain proper posture throughout the day.\n",
       "  </p>\n",
       "  <p>\n",
       "    The SWC Chair is designed with comfort in mind. The seat is made with HD36 foam, providing a plush and supportive cushioning experience. You can also choose between soft or hard-floor caster options, depending on the type of flooring in your space. Additionally, there are two choices of seat foam densities available: medium (1.8 lb/ft3) or high (2.8 lb/ft3). This allows you to customize the level of firmness to suit your preferences.\n",
       "  </p>\n",
       "  <p>\n",
       "    The SWC Chair is not only stylish and comfortable, but it is also built to last. The shell base glider is made of cast aluminum with a modified nylon PA6/PA66 coating, ensuring strength and durability. The shell has a thickness of 10 mm, providing stability and support. With its high-quality materials and construction, the SWC Chair is qualified for contract use, making it suitable for commercial settings as well.\n",
       "  </p>\n",
       "  <p>\n",
       "    Made in Italy, the SWC Chair is a testament to Italian craftsmanship and design. It combines style, functionality, and durability to create a chair that is both aesthetically pleasing and practical.\n",
       "  </p>\n",
       "  <h2>Product Dimensions</h2>\n",
       "  <table>\n",
       "    <tr>\n",
       "      <th>Dimension</th>\n",
       "      <th>Measurement (inches)</th>\n",
       "    </tr>\n",
       "    <tr>\n",
       "      <td>Width</td>\n",
       "      <td>20.87\"</td>\n",
       "    </tr>\n",
       "    <tr>\n",
       "      <td>Depth</td>\n",
       "      <td>20.08\"</td>\n",
       "    </tr>\n",
       "    <tr>\n",
       "      <td>Height</td>\n",
       "      <td>31.50\"</td>\n",
       "    </tr>\n",
       "    <tr>\n",
       "      <td>Seat Height</td>\n",
       "      <td>17.32\"</td>\n",
       "    </tr>\n",
       "    <tr>\n",
       "      <td>Seat Depth</td>\n",
       "      <td>16.14\"</td>\n",
       "    </tr>\n",
       "  </table>\n",
       "</div>\n",
       "\n",
       "Product IDs: SWC-100, SWC-110"
      ],
      "text/plain": [
       "<IPython.core.display.HTML object>"
      ]
     },
     "metadata": {},
     "output_type": "display_data"
    }
   ],
   "source": [
    "display(HTML(response))"
   ]
  },
  {
   "cell_type": "markdown",
   "id": "8ed02a02-9e12-4f63-97bd-f52064b18666",
   "metadata": {},
   "source": [
    "## Try experimenting on your own!"
   ]
  },
  {
   "cell_type": "code",
   "execution_count": 31,
   "id": "dbe1f850",
   "metadata": {
    "height": 863
   },
   "outputs": [],
   "source": [
    "fact_sheet_NBFC = \"\"\"\n",
    "Product Name: FlexiGrow Loan\n",
    "\n",
    "Overview:\n",
    "FlexiGrow Loan is a specialized financial product offered by our esteemed Non-Banking Financial Company (NBFC). Designed to meet the unique financial needs of individuals and businesses, FlexiGrow Loan provides flexible funding solutions with attractive terms and competitive interest rates. Whether you are looking to expand your business, finance your education, renovate your home, or meet any personal or professional requirement, FlexiGrow Loan is here to empower your aspirations.\n",
    "\n",
    "Key Features:\n",
    "\n",
    "Customizable Loan Amounts: With FlexiGrow Loan, customers can avail of a wide range of loan amounts, tailored to suit their specific financial requirements. Whether you need a modest sum or a substantial investment, we have you covered.\n",
    "\n",
    "Flexible Repayment Options: We understand that each customer's financial situation is unique, and thus, we offer a variety of flexible repayment plans. Borrowers can choose from monthly, quarterly, or annual installment options, making it convenient for them to manage their cash flow.\n",
    "\n",
    "Competitive Interest Rates: At our NBFC, we strive to offer highly competitive interest rates, ensuring that our customers can access funds without being burdened by exorbitant costs.\n",
    "\n",
    "Quick and Hassle-Free Application Process: Our application process is designed to be simple and efficient, allowing customers to apply for the FlexiGrow Loan with minimal paperwork and swift processing times.\n",
    "\n",
    "No Collateral Required: Unlike traditional bank loans, FlexiGrow Loan is an unsecured financing option, eliminating the need for collateral. This feature makes it more accessible to a broader range of borrowers.\n",
    "\n",
    "No Prepayment Penalty: We believe in encouraging responsible financial behavior. Hence, customers have the option to prepay their loan amount at any time without incurring any penalty, saving them on interest costs.\n",
    "\n",
    "Online Account Management: Through our secure online portal, customers can easily manage their loan accounts, access statements, and make payments at their convenience.\n",
    "\n",
    "Eligibility Criteria:\n",
    "\n",
    "Indian residents aged between 21 and 65 years.\n",
    "Salaried individuals with a minimum monthly income of Rs. 20,000.\n",
    "Self-employed individuals with a stable source of income and a minimum annual turnover of Rs. 5 lakhs.\n",
    "Documentation Requirements:\n",
    "\n",
    "Proof of identity (Aadhar card, passport, or driver's license).\n",
    "Proof of address (utility bill, ration card, or rental agreement).\n",
    "Bank statements for the last six months.\n",
    "Income proof (salary slips for salaried individuals, audited financials for self-employed individuals).\n",
    "How to Apply:\n",
    "\n",
    "Applying for the FlexiGrow Loan is easy and can be done through the following channels:\n",
    "\n",
    "Online Application: Visit our website and fill out the online application form. Our team will get in touch with you promptly.\n",
    "\n",
    "Branch Visit: Locate the nearest branch office and apply in person. Our customer representatives will guide you through the application process.\n",
    "\n",
    "Phone Application: Contact our customer support team via phone, and they will assist you in applying for the FlexiGrow Loan.\n",
    "\n",
    "Note: All loan applications are subject to credit assessment and approval.\n",
    "\n",
    "FlexiGrow Loan from our NBFC is your reliable partner in achieving your financial goals. Our commitment to customer satisfaction, coupled with innovative financial solutions, sets us apart. Experience the convenience and flexibility of FlexiGrow Loan today and witness your dreams transform into reality.\n",
    "\n",
    "Disclaimer: The product features, eligibility criteria, and documentation requirements may be subject to change at the discretion of the NBFC. Please refer to the latest product updates and terms and conditions on our official website before applying for the FlexiGrow Loan.\n",
    "\"\"\""
   ]
  },
  {
   "cell_type": "code",
   "execution_count": 32,
   "id": "461a1a6f",
   "metadata": {
    "height": 251
   },
   "outputs": [
    {
     "name": "stdout",
     "output_type": "stream",
     "text": [
      "Introducing FlexiGrow Loan - Your Path to Financial Empowerment\n",
      "\n",
      "Are you in need of flexible funding solutions to meet your unique financial requirements? Look no further than FlexiGrow Loan, a specialized financial product offered by our esteemed Non-Banking Financial Company (NBFC). With attractive terms, competitive interest rates, and a range of customizable loan amounts, FlexiGrow Loan is designed to empower your aspirations and help you achieve your personal and professional goals.\n",
      "\n",
      "Customizable Loan Amounts:\n",
      "With FlexiGrow Loan, you have the freedom to choose a loan amount that suits your specific financial needs. Whether you require a modest sum or a substantial investment, we have you covered. Our flexible loan amounts ensure that you can access the funds you need, no matter the size of your financial requirement.\n",
      "\n",
      "Flexible Repayment Options:\n",
      "We understand that everyone's financial situation is unique. That's why we offer a variety of flexible repayment plans to suit your cash flow. Whether you prefer monthly, quarterly, or annual installments, we have options that make it convenient for you to manage your loan repayment.\n",
      "\n",
      "Competitive Interest Rates:\n",
      "At our NBFC, we believe in providing our customers with the best possible financial solutions. That's why we offer highly competitive interest rates, ensuring that you can access funds without being burdened by exorbitant costs. With FlexiGrow Loan, you can enjoy the benefits of affordable financing.\n",
      "\n",
      "Quick and Hassle-Free Application Process:\n",
      "We know that time is of the essence when it comes to your financial needs. That's why our application process is designed to be simple and efficient. With minimal paperwork and swift processing times, you can apply for the FlexiGrow Loan with ease and convenience.\n",
      "\n",
      "No Collateral Required:\n",
      "Unlike traditional bank loans, FlexiGrow Loan is an unsecured financing option. This means that you don't need to provide any collateral to secure your loan. This feature makes FlexiGrow Loan more accessible to a broader range of borrowers, allowing you to access funds without the stress of collateral requirements.\n",
      "\n",
      "No Prepayment Penalty:\n",
      "We believe in encouraging responsible financial behavior. With FlexiGrow Loan, you have the option to prepay your loan amount at any time without incurring any penalty. This not only gives you the freedom to manage your finances effectively but also saves you on interest costs.\n",
      "\n",
      "Online Account Management:\n",
      "Managing your loan account has never been easier. With our secure online portal, you can easily access your loan account, view statements, and make payments at your convenience. Our user-friendly interface ensures a seamless experience, allowing you to stay in control of your finances.\n",
      "\n",
      "Applying for FlexiGrow Loan is Easy:\n",
      "Applying for the FlexiGrow Loan is a breeze, and you have multiple channels to choose from:\n",
      "\n",
      "1. Online Application: Visit our website and fill out the online application form. Our team will promptly get in touch with you to guide you through the process.\n",
      "\n",
      "2. Branch Visit: Locate the nearest branch office and apply in person. Our customer representatives will be there to assist you every step of the way.\n",
      "\n",
      "3. Phone Application: Contact our customer support team via phone, and they will help you with the application process. \n",
      "\n",
      "Please note that all loan applications are subject to credit assessment and approval.\n",
      "\n",
      "Experience the Convenience and Flexibility of FlexiGrow Loan:\n",
      "FlexiGrow Loan from our NBFC is your reliable partner in achieving your financial goals. Our commitment to customer satisfaction, coupled with innovative financial solutions, sets us apart. Experience the convenience and flexibility of FlexiGrow Loan today and witness your dreams transform into reality.\n",
      "\n",
      "Disclaimer:\n",
      "Please note that the product features, eligibility criteria, and documentation requirements may be subject to change at the discretion of the NBFC. We recommend referring to the latest product updates and terms and conditions on our official website before applying for the FlexiGrow Loan.\n"
     ]
    }
   ],
   "source": [
    "prompt = f\"\"\"\n",
    "Your task is to help a marketing team create a \n",
    "description for a retail website of a product based \n",
    "on a technical fact sheet.\n",
    "\n",
    "Write a product description based on the information \n",
    "provided in the technical specifications delimited by \n",
    "triple backticks.\n",
    "\n",
    "Technical specifications: ```{fact_sheet_NBFC}```\n",
    "\"\"\"\n",
    "response = get_completion(prompt)\n",
    "print(response)\n"
   ]
  },
  {
   "cell_type": "code",
   "execution_count": 33,
   "id": "5e3bf363",
   "metadata": {
    "height": 268
   },
   "outputs": [
    {
     "name": "stdout",
     "output_type": "stream",
     "text": [
      "Introducing FlexiGrow Loan, a specialized financial product offered by our esteemed Non-Banking Financial Company (NBFC). With customizable loan amounts, flexible repayment options, and competitive interest rates, FlexiGrow Loan is designed to meet your unique financial needs. Enjoy a quick and hassle-free application process, no collateral required, and no prepayment penalty. Manage your loan conveniently through our online account management portal. Apply online, visit a branch, or call our customer support team. Experience the convenience and flexibility of FlexiGrow Loan today!\n"
     ]
    }
   ],
   "source": [
    "prompt = f\"\"\"\n",
    "Your task is to help a marketing team create a \n",
    "description for a retail website of a product based \n",
    "on a technical fact sheet.\n",
    "\n",
    "Write a product description based on the information \n",
    "provided in the technical specifications delimited by \n",
    "triple backticks.\n",
    "\n",
    "Use at most 70 words.\n",
    "\n",
    "Technical specifications: ```{fact_sheet_NBFC}```\n",
    "\"\"\"\n",
    "response = get_completion(prompt)\n",
    "print(response)"
   ]
  },
  {
   "cell_type": "code",
   "execution_count": 34,
   "id": "0be568e6",
   "metadata": {
    "height": 30
   },
   "outputs": [
    {
     "data": {
      "text/plain": [
       "588"
      ]
     },
     "execution_count": 34,
     "metadata": {},
     "output_type": "execute_result"
    }
   ],
   "source": [
    "len(response)"
   ]
  },
  {
   "cell_type": "code",
   "execution_count": 38,
   "id": "79f0435f",
   "metadata": {
    "height": 353
   },
   "outputs": [
    {
     "name": "stdout",
     "output_type": "stream",
     "text": [
      "Introducing FlexiGrow Loan, a specialized financial product offered by our esteemed Non-Banking Financial Company (NBFC). Designed to meet the unique financial needs of individuals and businesses, FlexiGrow Loan provides flexible funding solutions with attractive terms and competitive interest rates. With customizable loan amounts and flexible repayment options, we ensure that our customers can access funds conveniently. Our quick and hassle-free application process, with minimal paperwork and swift processing times, makes it easy for customers to apply. Plus, with no collateral required and no prepayment penalty, we offer a hassle-free borrowing experience. Manage your loan account easily through our secure online portal. Eligibility criteria include being an Indian resident aged between 21 and 65 years, with a minimum monthly income of Rs. 20,000 for salaried individuals and a minimum annual turnover of Rs. 5 lakhs for self-employed individuals. Required documentation includes proof of identity, proof of address, bank statements, and income proof. Applying for the FlexiGrow Loan is simple and can be done online, through a branch visit, or via phone application. Experience the convenience and flexibility of FlexiGrow Loan today and witness your dreams transform into reality. Please refer to our official website for the latest updates and terms and conditions.\n"
     ]
    }
   ],
   "source": [
    "prompt = f\"\"\"\n",
    "Your task is to help a marketing team create a \n",
    "description for a retail website of a product based \n",
    "on a technical fact sheet.\n",
    "\n",
    "Write a product description based on the information \n",
    "provided in the technical specifications delimited by \n",
    "triple backticks.\n",
    "\n",
    "As the description is intended for a financial firm, \n",
    "it should be technical in nature and should emphasize the information about \n",
    "In addition to the product and its services, \n",
    "please describe how the application process is simple to understand for the customer.\n",
    "\n",
    "Use at most 70 words.\n",
    "\n",
    "Technical specifications: ```{fact_sheet_chair}```\n",
    "\"\"\"\n",
    "response = get_completion(prompt)\n",
    "print(response)"
   ]
  },
  {
   "cell_type": "code",
   "execution_count": 45,
   "id": "5bce0962",
   "metadata": {
    "height": 659
   },
   "outputs": [
    {
     "name": "stdout",
     "output_type": "stream",
     "text": [
      "<div>\n",
      "  <h2>Product Description</h2>\n",
      "  <p>The FlexiGrow Loan is a specialized financial product offered by our esteemed Non-Banking Financial Company (NBFC). It is designed to meet the unique financial needs of individuals and businesses, providing flexible funding solutions with attractive terms and competitive interest rates. Whether you are looking to expand your business, finance your education, renovate your home, or meet any personal or professional requirement, the FlexiGrow Loan is here to empower your aspirations.</p>\n",
      "  \n",
      "  <h3>Key Features</h3>\n",
      "  <table>\n",
      "    <tr>\n",
      "      <th>Customizable Loan Amounts</th>\n",
      "      <td>With the FlexiGrow Loan, customers can avail of a wide range of loan amounts, tailored to suit their specific financial requirements. Whether you need a modest sum or a substantial investment, we have you covered.</td>\n",
      "    </tr>\n",
      "    <tr>\n",
      "      <th>Flexible Repayment Options</th>\n",
      "      <td>We understand that each customer's financial situation is unique, and thus, we offer a variety of flexible repayment plans. Borrowers can choose from monthly, quarterly, or annual installment options, making it convenient for them to manage their cash flow.</td>\n",
      "    </tr>\n",
      "    <tr>\n",
      "      <th>Competitive Interest Rates</th>\n",
      "      <td>At our NBFC, we strive to offer highly competitive interest rates, ensuring that our customers can access funds without being burdened by exorbitant costs.</td>\n",
      "    </tr>\n",
      "    <tr>\n",
      "      <th>Quick and Hassle-Free Application Process</th>\n",
      "      <td>Our application process is designed to be simple and efficient, allowing customers to apply for the FlexiGrow Loan with minimal paperwork and swift processing times.</td>\n",
      "    </tr>\n",
      "    <tr>\n",
      "      <th>No Collateral Required</th>\n",
      "      <td>Unlike traditional bank loans, the FlexiGrow Loan is an unsecured financing option, eliminating the need for collateral. This feature makes it more accessible to a broader range of borrowers.</td>\n",
      "    </tr>\n",
      "    <tr>\n",
      "      <th>No Prepayment Penalty</th>\n",
      "      <td>We believe in encouraging responsible financial behavior. Hence, customers have the option to prepay their loan amount at any time without incurring any penalty, saving them on interest costs.</td>\n",
      "    </tr>\n",
      "    <tr>\n",
      "      <th>Online Account Management</th>\n",
      "      <td>Through our secure online portal, customers can easily manage their loan accounts, access statements, and make payments at their convenience.</td>\n",
      "    </tr>\n",
      "  </table>\n",
      "  \n",
      "  <h3>Eligibility Criteria</h3>\n",
      "  <table>\n",
      "    <tr>\n",
      "      <th>Indian residents aged between 21 and 65 years.</th>\n",
      "      <td></td>\n",
      "    </tr>\n",
      "    <tr>\n",
      "      <th>Salaried individuals with a minimum monthly income of Rs. 20,000.</th>\n",
      "      <td></td>\n",
      "    </tr>\n",
      "    <tr>\n",
      "      <th>Self-employed individuals with a stable source of income and a minimum annual turnover of Rs. 5 lakhs.</th>\n",
      "      <td></td>\n",
      "    </tr>\n",
      "  </table>\n",
      "  \n",
      "  <h3>Documentation Requirements</h3>\n",
      "  <ul>\n",
      "    <li>Proof of identity (Aadhar card, passport, or driver's license)</li>\n",
      "    <li>Proof of address (utility bill, ration card, or rental agreement)</li>\n",
      "    <li>Bank statements for the last six months</li>\n",
      "    <li>Income proof (salary slips for salaried individuals, audited financials for self-employed individuals)</li>\n",
      "  </ul>\n",
      "  \n",
      "  <h3>How to Apply</h3>\n",
      "  <p>Applying for the FlexiGrow Loan is easy and can be done through the following channels:</p>\n",
      "  <ul>\n",
      "    <li>Online Application: Visit our website and fill out the online application form. Our team will get in touch with you promptly.</li>\n",
      "    <li>Branch Visit: Locate the nearest branch office and apply in person. Our customer representatives will guide you through the application process.</li>\n",
      "    <li>Phone Application: Contact our customer support team via phone, and they will assist you in applying for the FlexiGrow Loan.</li>\n",
      "  </ul>\n",
      "  \n",
      "  <p>Note: All loan applications are subject to credit assessment and approval.</p>\n",
      "  \n",
      "  <p>FlexiGrow Loan from our NBFC is your reliable partner in achieving your financial goals. Our commitment to customer satisfaction, coupled with innovative financial solutions, sets us apart. Experience the convenience and flexibility of FlexiGrow Loan today and witness your dreams transform into reality.</p>\n",
      "  \n",
      "  <p>Disclaimer: The product features, eligibility criteria, and documentation requirements may be subject to change at the discretion of the NBFC. Please refer to the latest product updates and terms and conditions on our official website before applying for the FlexiGrow Loan.</p>\n",
      "</div>\n"
     ]
    }
   ],
   "source": [
    "prompt = f\"\"\"\n",
    "Your task is to help a marketing team create a \n",
    "description for a retail website of a product based \n",
    "on a technical fact sheet.\n",
    "\n",
    "Write a product description based on the information \n",
    "provided in the technical specifications delimited by \n",
    "triple backticks.\n",
    "\n",
    "The description is intended for furniture retailers, \n",
    "so should be technical in nature and focus on the \n",
    "materials the product is constructed from.\n",
    "\n",
    "At the end of the description, include every 7-character \n",
    "Product ID in the technical specification.\n",
    "\n",
    "After the description, include a detail table that gives the \n",
    "Key Features with full details. The table should have two columns.\n",
    "In the first column include the name of the Key Features.\n",
    "In the second column include the detail description only.\n",
    "\n",
    "Give the table the title 'Features'.\n",
    "\n",
    "After Key Features, include a detail table that gives the \n",
    "Eligibility Criteria with full details. The table should have two columns.\n",
    "In the one column include the Eligibility Criteria only.\n",
    "In the second column include the detail description only.\n",
    "\n",
    "Give the table the title 'Eligibility Criteria'.\n",
    "\n",
    "Format everything as HTML that can be used in a website. \n",
    "Place the description in a <div> element.\n",
    "\n",
    "Technical specifications: ```{fact_sheet_chair}```\n",
    "\"\"\"\n",
    "\n",
    "response = get_completion(prompt)\n",
    "print(response)"
   ]
  },
  {
   "cell_type": "code",
   "execution_count": 46,
   "id": "27ae596d",
   "metadata": {
    "height": 30
   },
   "outputs": [],
   "source": [
    "from IPython.display import display, HTML"
   ]
  },
  {
   "cell_type": "code",
   "execution_count": 47,
   "id": "21d7fac3",
   "metadata": {
    "height": 30
   },
   "outputs": [
    {
     "data": {
      "text/html": [
       "<div>\n",
       "  <h2>Product Description</h2>\n",
       "  <p>The FlexiGrow Loan is a specialized financial product offered by our esteemed Non-Banking Financial Company (NBFC). It is designed to meet the unique financial needs of individuals and businesses, providing flexible funding solutions with attractive terms and competitive interest rates. Whether you are looking to expand your business, finance your education, renovate your home, or meet any personal or professional requirement, the FlexiGrow Loan is here to empower your aspirations.</p>\n",
       "  \n",
       "  <h3>Key Features</h3>\n",
       "  <table>\n",
       "    <tr>\n",
       "      <th>Customizable Loan Amounts</th>\n",
       "      <td>With the FlexiGrow Loan, customers can avail of a wide range of loan amounts, tailored to suit their specific financial requirements. Whether you need a modest sum or a substantial investment, we have you covered.</td>\n",
       "    </tr>\n",
       "    <tr>\n",
       "      <th>Flexible Repayment Options</th>\n",
       "      <td>We understand that each customer's financial situation is unique, and thus, we offer a variety of flexible repayment plans. Borrowers can choose from monthly, quarterly, or annual installment options, making it convenient for them to manage their cash flow.</td>\n",
       "    </tr>\n",
       "    <tr>\n",
       "      <th>Competitive Interest Rates</th>\n",
       "      <td>At our NBFC, we strive to offer highly competitive interest rates, ensuring that our customers can access funds without being burdened by exorbitant costs.</td>\n",
       "    </tr>\n",
       "    <tr>\n",
       "      <th>Quick and Hassle-Free Application Process</th>\n",
       "      <td>Our application process is designed to be simple and efficient, allowing customers to apply for the FlexiGrow Loan with minimal paperwork and swift processing times.</td>\n",
       "    </tr>\n",
       "    <tr>\n",
       "      <th>No Collateral Required</th>\n",
       "      <td>Unlike traditional bank loans, the FlexiGrow Loan is an unsecured financing option, eliminating the need for collateral. This feature makes it more accessible to a broader range of borrowers.</td>\n",
       "    </tr>\n",
       "    <tr>\n",
       "      <th>No Prepayment Penalty</th>\n",
       "      <td>We believe in encouraging responsible financial behavior. Hence, customers have the option to prepay their loan amount at any time without incurring any penalty, saving them on interest costs.</td>\n",
       "    </tr>\n",
       "    <tr>\n",
       "      <th>Online Account Management</th>\n",
       "      <td>Through our secure online portal, customers can easily manage their loan accounts, access statements, and make payments at their convenience.</td>\n",
       "    </tr>\n",
       "  </table>\n",
       "  \n",
       "  <h3>Eligibility Criteria</h3>\n",
       "  <table>\n",
       "    <tr>\n",
       "      <th>Indian residents aged between 21 and 65 years.</th>\n",
       "      <td></td>\n",
       "    </tr>\n",
       "    <tr>\n",
       "      <th>Salaried individuals with a minimum monthly income of Rs. 20,000.</th>\n",
       "      <td></td>\n",
       "    </tr>\n",
       "    <tr>\n",
       "      <th>Self-employed individuals with a stable source of income and a minimum annual turnover of Rs. 5 lakhs.</th>\n",
       "      <td></td>\n",
       "    </tr>\n",
       "  </table>\n",
       "  \n",
       "  <h3>Documentation Requirements</h3>\n",
       "  <ul>\n",
       "    <li>Proof of identity (Aadhar card, passport, or driver's license)</li>\n",
       "    <li>Proof of address (utility bill, ration card, or rental agreement)</li>\n",
       "    <li>Bank statements for the last six months</li>\n",
       "    <li>Income proof (salary slips for salaried individuals, audited financials for self-employed individuals)</li>\n",
       "  </ul>\n",
       "  \n",
       "  <h3>How to Apply</h3>\n",
       "  <p>Applying for the FlexiGrow Loan is easy and can be done through the following channels:</p>\n",
       "  <ul>\n",
       "    <li>Online Application: Visit our website and fill out the online application form. Our team will get in touch with you promptly.</li>\n",
       "    <li>Branch Visit: Locate the nearest branch office and apply in person. Our customer representatives will guide you through the application process.</li>\n",
       "    <li>Phone Application: Contact our customer support team via phone, and they will assist you in applying for the FlexiGrow Loan.</li>\n",
       "  </ul>\n",
       "  \n",
       "  <p>Note: All loan applications are subject to credit assessment and approval.</p>\n",
       "  \n",
       "  <p>FlexiGrow Loan from our NBFC is your reliable partner in achieving your financial goals. Our commitment to customer satisfaction, coupled with innovative financial solutions, sets us apart. Experience the convenience and flexibility of FlexiGrow Loan today and witness your dreams transform into reality.</p>\n",
       "  \n",
       "  <p>Disclaimer: The product features, eligibility criteria, and documentation requirements may be subject to change at the discretion of the NBFC. Please refer to the latest product updates and terms and conditions on our official website before applying for the FlexiGrow Loan.</p>\n",
       "</div>"
      ],
      "text/plain": [
       "<IPython.core.display.HTML object>"
      ]
     },
     "metadata": {},
     "output_type": "display_data"
    }
   ],
   "source": [
    "display(HTML(response))"
   ]
  },
  {
   "cell_type": "code",
   "execution_count": null,
   "id": "856013b0",
   "metadata": {
    "height": 30
   },
   "outputs": [],
   "source": []
  },
  {
   "cell_type": "code",
   "execution_count": null,
   "id": "3c3abb26",
   "metadata": {},
   "outputs": [],
   "source": []
  }
 ],
 "metadata": {
  "kernelspec": {
   "display_name": "Python 3 (ipykernel)",
   "language": "python",
   "name": "python3"
  },
  "language_info": {
   "codemirror_mode": {
    "name": "ipython",
    "version": 3
   },
   "file_extension": ".py",
   "mimetype": "text/x-python",
   "name": "python",
   "nbconvert_exporter": "python",
   "pygments_lexer": "ipython3",
   "version": "3.11.5"
  }
 },
 "nbformat": 4,
 "nbformat_minor": 5
}
